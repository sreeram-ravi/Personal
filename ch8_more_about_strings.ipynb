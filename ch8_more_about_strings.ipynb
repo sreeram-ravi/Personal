{
  "nbformat": 4,
  "nbformat_minor": 0,
  "metadata": {
    "colab": {
      "provenance": [],
      "toc_visible": true,
      "include_colab_link": true
    },
    "kernelspec": {
      "name": "python3",
      "display_name": "Python 3"
    },
    "language_info": {
      "name": "python"
    }
  },
  "cells": [
    {
      "cell_type": "markdown",
      "metadata": {
        "id": "view-in-github",
        "colab_type": "text"
      },
      "source": [
        "<a href=\"https://colab.research.google.com/github/sreeram-ravi/Personal/blob/master/ch8_more_about_strings.ipynb\" target=\"_parent\"><img src=\"https://colab.research.google.com/assets/colab-badge.svg\" alt=\"Open In Colab\"/></a>"
      ]
    },
    {
      "cell_type": "markdown",
      "source": [
        "# Chapter 8: More About Strings\n",
        "\n",
        "### Strings are character sequences (aka lists)\n",
        "### Strings support Index Notation\n",
        "### String slicing\n",
        "### Membership Operations (in) (not in)\n",
        "### Strings are immutable\n",
        "### Traversing the string \n",
        "### String Methods (Querying / Testing / Asking)\n",
        "### String Mehods (Modification)\n",
        "\n"
      ],
      "metadata": {
        "id": "DCIfDgUB3WOT"
      }
    },
    {
      "cell_type": "code",
      "source": [
        "#@title Strings are character sequences (aka lists)\n",
        "\n",
        "str_1 = 'python'\n",
        "\n",
        "print(str_1[0])\n",
        "print(str_1[4])\n",
        "print(str_1[5])\n",
        "\n",
        "\n",
        "#IndexOutOfBoundsError  (Java)  IndexError (Python)\n",
        "#print(str_1[6])\n",
        "\n",
        "print(str_1[-1])\n",
        "print(str_1[-4])\n",
        "print(str_1[-6])\n",
        "\n",
        "\n",
        "#IndexOutOfBoundsError  (Java)  IndexError (Python)\n",
        "#print(str_1[-7])\n"
      ],
      "metadata": {
        "colab": {
          "base_uri": "https://localhost:8080/"
        },
        "id": "m7T0slM5CqoP",
        "outputId": "9ca78810-8a14-47a6-da2c-892c48947c73"
      },
      "execution_count": null,
      "outputs": [
        {
          "output_type": "stream",
          "name": "stdout",
          "text": [
            "p\n",
            "o\n",
            "n\n",
            "n\n",
            "t\n",
            "p\n"
          ]
        }
      ]
    },
    {
      "cell_type": "code",
      "source": [
        "#@title Indexing\n",
        "#Left to Right: Positive Indexing  [0, 1, 2, 3, 4, 5]\n",
        "#Right to Left: Negative Indexing  [-6 -5 -4  -3 -2   -1]"
      ],
      "metadata": {
        "id": "DKtsCf2eEhbI"
      },
      "execution_count": null,
      "outputs": []
    },
    {
      "cell_type": "code",
      "source": [
        "#@title String Slicing\n",
        "\n",
        "text = 'programming'\n",
        "\n",
        "# Range also takes three parameters (Start, Stop, Step)\n",
        "# Slicing takes three parameters (Start: Stop: Step)\n",
        "# Slicing (Stop)  --> Slicing (0 : Stop)\n",
        "# Slicing (Start, Stop) --> Slicing (1: 3)\n",
        "# Slicing (Start, Stop, Step) --> Slicing (1: 5: 2)\n",
        "\n",
        "\n",
        "print(text[1:3])\n",
        "print(text[:3])\n",
        "print(text[-2:])\n",
        "print(text[:])\n",
        "print(text[1:5:2])\n",
        "print(text[1:6:2])\n",
        "print(text[1::2])\n",
        "\n",
        "print(text[::-1])\n",
        "\n",
        "\n",
        "\n",
        "numbers = [1, 2, 4, 'a', True, 56.4]\n",
        "print(numbers)\n",
        "print(numbers[: : -1])\n",
        "\n"
      ],
      "metadata": {
        "colab": {
          "base_uri": "https://localhost:8080/"
        },
        "id": "7cuniaXzDh_r",
        "outputId": "a31f9481-d233-4d35-930c-39c64addfd33"
      },
      "execution_count": null,
      "outputs": [
        {
          "output_type": "stream",
          "name": "stdout",
          "text": [
            "ro\n",
            "pro\n",
            "ng\n",
            "programming\n",
            "rg\n",
            "rga\n",
            "rgamn\n",
            "gnimmargorp\n",
            "[1, 2, 4, 'a', True, 56.4]\n",
            "[56.4, True, 'a', 4, 2, 1]\n"
          ]
        }
      ]
    },
    {
      "cell_type": "code",
      "source": [
        "#@title Membership Operations (in) (not in)\n",
        "\n",
        "some_numbers = [ 4, 6, 7, 34, 20, 99, 56]\n",
        "\n",
        "# brute force: never do it\n",
        "# for x in some_numbers:\n",
        "#   if (99 == x):\n",
        "#     print(\"yes. 99 is there\")\n",
        "#     break\n",
        "\n",
        "print(\"is 99 in the list?: \",  (99 in some_numbers) )\n",
        "print(\"is 88 not in the list?: \",  (88 not in some_numbers) )\n",
        "print(\"is 4 not in the list?: \",  (4 not in some_numbers) )\n",
        "print(\"What will happen?\", True in some_numbers)\n",
        "\n",
        "class_name = \"python 101\"\n",
        "\n",
        "print(\"is py in the class_name?\", 'py' in class_name)\n",
        "\n",
        "print(\"is 201 in the class_name?\", '201' in class_name)\n",
        "\n",
        "#print(\"What will happen?\", \"True\" in class_name)\n",
        " \n"
      ],
      "metadata": {
        "colab": {
          "base_uri": "https://localhost:8080/"
        },
        "id": "T10pAC20Fxmj",
        "outputId": "b30cd826-f71d-4e77-fee2-656ed52e0199"
      },
      "execution_count": null,
      "outputs": [
        {
          "output_type": "stream",
          "name": "stdout",
          "text": [
            "is 99 in the list?:  True\n",
            "is 88 not in the list?:  True\n",
            "is 4 not in the list?:  False\n",
            "What will happen? False\n",
            "is py in the class_name? True\n",
            "is 201 in the class_name? False\n"
          ]
        }
      ]
    },
    {
      "cell_type": "code",
      "source": [
        "#@title Strings are immutable\n",
        "\n",
        "numbers = [5, 6, 7]\n",
        "print('before: ', numbers)\n",
        "numbers[0] = 10\n",
        "print('after: ', numbers)\n",
        "\n",
        "input_str = 'Python'\n",
        "\n",
        "# Once a string is created, you can not modify it\n",
        "# Strings are immutable (that means.. those can not be changed)\n",
        "print('before: ', input_str)\n",
        "slice1 = input_str[1:]\n",
        "print(slice1)\n",
        "slice2 = 'Z' + slice1\n",
        "print(slice2)\n",
        "print('after: ', input_str)\n",
        "\n",
        "\n",
        "input_str = \"python\"  # ==> \"zython\"\n",
        "#input_str[0] = \"z\"  # not permitted\n",
        "input_str = 'z' + input_str[1:]\n",
        "\n",
        "# This might be giving the impression that I am changing the original string.\n",
        "# However, python is creating brand new string called \"zython\"\n",
        "# What will happen to the original string \"python\"?\n",
        "# Because it is now an orphan. No variable is referencing it.\n",
        "# So, python will clean it up (= 'garbage collection')\n"
      ],
      "metadata": {
        "colab": {
          "base_uri": "https://localhost:8080/"
        },
        "id": "I0AU5nzeG910",
        "outputId": "b9396b6a-2fb3-4ae2-ac56-4976249c0cbf"
      },
      "execution_count": null,
      "outputs": [
        {
          "output_type": "stream",
          "name": "stdout",
          "text": [
            "before:  [5, 6, 7]\n",
            "after:  [10, 6, 7]\n",
            "before:  Python\n",
            "ython\n",
            "Zython\n",
            "after:  Python\n"
          ]
        }
      ]
    },
    {
      "cell_type": "code",
      "execution_count": null,
      "metadata": {
        "colab": {
          "base_uri": "https://localhost:8080/"
        },
        "id": "MZdUi2uFjoRK",
        "outputId": "19410d5b-997d-4611-b6f5-7ac54c5c1bd9"
      },
      "outputs": [
        {
          "output_type": "stream",
          "name": "stdout",
          "text": [
            "P\n",
            "y\n",
            "t\n",
            "h\n",
            "o\n",
            "n\n",
            "P,y,t,h,o,n,\n",
            "You can convert a string into a formal character list:\n",
            "['P', 'y', 't', 'h', 'o', 'n']\n"
          ]
        }
      ],
      "source": [
        "#@title Traversing a string\n",
        "#name = [4, 6, 8, 10]\n",
        "\n",
        "name = 'Python'\n",
        "\n",
        "for ch in name:\n",
        "  print(ch)\n",
        "\n",
        "for ch in name:\n",
        "  print(ch, end = ',')\n",
        "\n",
        "\n",
        "print('\\nYou can convert a string into a formal character list:')\n",
        "ch_list = list(name)\n",
        "print(ch_list)"
      ]
    },
    {
      "cell_type": "code",
      "source": [
        "#@title Counting a specific character in a string  (Bug??)\n",
        "def main():\n",
        "# Create a variable to use to hold the count.\n",
        "# The variable must start with 0.\n",
        "  count = 0\n",
        "\n",
        "# Get a string from the user.\n",
        "  my_string = input(\"Enter a sentence: \")\n",
        " \n",
        "\n",
        " # Count the Ts.\n",
        "  for ch in my_string:\n",
        "    if ch == 'T' or ch == 't':\n",
        "      count += 1\n",
        " \n",
        " # Print the result.\n",
        "  print('The letter T appears', count, 'times.')\n",
        "\n",
        "# Call the main function.\n",
        "main()"
      ],
      "metadata": {
        "colab": {
          "base_uri": "https://localhost:8080/",
          "height": 321
        },
        "id": "g2KuesvBkOOc",
        "outputId": "56d8cd05-95e9-4e54-a932-74e34fc54146"
      },
      "execution_count": null,
      "outputs": [
        {
          "output_type": "error",
          "ename": "TypeError",
          "evalue": "ignored",
          "traceback": [
            "\u001b[0;31m---------------------------------------------------------------------------\u001b[0m",
            "\u001b[0;31mTypeError\u001b[0m                                 Traceback (most recent call last)",
            "\u001b[0;32m<ipython-input-88-94461d6ed4e9>\u001b[0m in \u001b[0;36m<module>\u001b[0;34m\u001b[0m\n\u001b[1;32m     18\u001b[0m \u001b[0;34m\u001b[0m\u001b[0m\n\u001b[1;32m     19\u001b[0m \u001b[0;31m# Call the main function.\u001b[0m\u001b[0;34m\u001b[0m\u001b[0;34m\u001b[0m\u001b[0;34m\u001b[0m\u001b[0m\n\u001b[0;32m---> 20\u001b[0;31m \u001b[0mmain\u001b[0m\u001b[0;34m(\u001b[0m\u001b[0;34m)\u001b[0m\u001b[0;34m\u001b[0m\u001b[0;34m\u001b[0m\u001b[0m\n\u001b[0m",
            "\u001b[0;32m<ipython-input-88-94461d6ed4e9>\u001b[0m in \u001b[0;36mmain\u001b[0;34m()\u001b[0m\n\u001b[1;32m      6\u001b[0m \u001b[0;34m\u001b[0m\u001b[0m\n\u001b[1;32m      7\u001b[0m \u001b[0;31m# Get a string from the user.\u001b[0m\u001b[0;34m\u001b[0m\u001b[0;34m\u001b[0m\u001b[0;34m\u001b[0m\u001b[0m\n\u001b[0;32m----> 8\u001b[0;31m   \u001b[0mmy_string\u001b[0m \u001b[0;34m=\u001b[0m \u001b[0minput\u001b[0m\u001b[0;34m(\u001b[0m\u001b[0;34m\"Enter a sentence: \"\u001b[0m\u001b[0;34m)\u001b[0m\u001b[0;34m\u001b[0m\u001b[0;34m\u001b[0m\u001b[0m\n\u001b[0m\u001b[1;32m      9\u001b[0m \u001b[0;34m\u001b[0m\u001b[0m\n\u001b[1;32m     10\u001b[0m \u001b[0;34m\u001b[0m\u001b[0m\n",
            "\u001b[0;31mTypeError\u001b[0m: 'str' object is not callable"
          ]
        }
      ]
    },
    {
      "cell_type": "code",
      "source": [
        "#@title String Methods (Querying / Testing / Asking)\n",
        "\n",
        "'''\n",
        "isalnum() Returns true if the string contains only alphabetic letters or digits and is at least\n",
        "one character in length. Returns false otherwise.\n",
        "\n",
        "isalpha() Returns true if the string contains only alphabetic letters and is at least one\n",
        "character in length. Returns false otherwise.\n",
        "\n",
        "Returns true if the string contains only numeric digits and is at least one\n",
        "\n",
        "\n",
        "isdigit() character in length. Returns false otherwise.\n",
        "\n",
        "islower() Returns true if all of the alphabetic letters in the string are lowercase, and the\n",
        "string contains at least one alphabetic letter. Returns false otherwise.\n",
        "\n",
        "isspace()\n",
        "Returns true if the string contains only whitespace characters and is at least one\n",
        "character in length. Returns false otherwise. (Whitespace characters are spaces,\n",
        "newlines (\\n), and tabs (\\t).\n",
        "\n",
        "isupper() Returns true if all of the alphabetic letters in the string are uppercase, and the\n",
        "string contains at least one alphabetic letter. Returns false otherwise.\n",
        "'''\n",
        "\n",
        "s1 = '123'\n",
        "\n",
        "print(s1.isdigit())\n",
        "print(s1.isalpha())\n",
        "\n",
        "s2 = 'PYTHON'\n",
        "print(s2.isupper())"
      ],
      "metadata": {
        "id": "I7BA_-Y4mXgi"
      },
      "execution_count": null,
      "outputs": []
    },
    {
      "cell_type": "code",
      "source": [
        "#@title String Modification Methods\n",
        "'''\n",
        "lower()\n",
        "Returns a copy of the string with all alphabetic letters converted to\n",
        "lowercase. Any character that is already lowercase, or is not an alphabetic\n",
        "letter, is unchanged.\n",
        "lstrip()\n",
        "Returns a copy of the string with all leading whitespace characters\n",
        "removed. Leading whitespace characters are spaces, newlines (\\n), and\n",
        "tabs (\\t) that appear at the beginning of the string.\n",
        "lstrip(char)\n",
        "The char argument is a string containing a character. Returns a copy of the\n",
        "string with all instances of char that appear at the beginning of the string\n",
        "removed.\n",
        "rstrip()\n",
        "Returns a copy of the string with all trailing whitespace characters\n",
        "removed. Trailing whitespace characters are spaces, newlines (\\n), and tabs\n",
        "(\\t) that appear at the end of the string.\n",
        "rstrip(char)\n",
        "The char argument is a string containing a character. The method returns a\n",
        "copy of the string with all instances of char that appear at the end of the\n",
        "string removed.\n",
        "strip() Returns a copy of the string with all leading and trailing whitespace\n",
        "characters removed.\n",
        "strip(char)\n",
        "Returns a copy of the string with all instances of char that appear at the\n",
        "beginning and the end of the string removed.\n",
        "upper()\n",
        "Returns a copy of the string with all alphabetic letters converted to\n",
        "uppercase. Any character that is already uppercase, or is not an alphabetic\n",
        "letter, is unchanged.\n",
        "'''\n",
        "\n",
        "str_1 = 'Python Programming is COOL'\n",
        "str_1 = 'PYTHON'\n",
        "print(str_1)\n",
        "print(str_1.lower())"
      ],
      "metadata": {
        "id": "lQfeV36mMGGj"
      },
      "execution_count": null,
      "outputs": []
    },
    {
      "cell_type": "code",
      "source": [
        "#@ String: split function\n",
        "\n",
        "input_str = 'Python programming is cool'\n",
        "\n",
        "# How many words are there? \n",
        "# What is the second word?\n",
        "\n",
        "input_tokens = input_str.split()\n",
        "print(input_str)\n",
        "print(input_tokens)\n",
        "\n",
        "print('There are', len(input_tokens), 'words in the sentence')\n",
        "print('Second word is', input_tokens[1])\n",
        "\n",
        "\n",
        "input_str = '1/22/2023'\n",
        "# What is the year?\n",
        "# What is the month?\n",
        "# we can split a string based on a delimiter (separator)\n",
        "input_tokens = input_str.split('/')\n",
        "print(input_str)\n",
        "print(input_tokens)\n",
        "\n",
        "print('Year: ', input_tokens[2])\n",
        "print('Month: ', input_tokens[0])\n",
        "\n",
        "input_str = '1/22/2023 10:00 AM'\n",
        "\n",
        "# What is the day?\n",
        "# What time is it now? \n",
        "\n",
        "tokens_list_1 = input_str.split()\n",
        "print(tokens_list_1)\n",
        "tokens_list_2 = tokens_list_1[0].split('/')\n",
        "print(tokens_list_2)\n",
        "\n",
        "print('what is the day? ', tokens_list_2[1])\n",
        "print('what time is it now? ', tokens_list_1[1] + ' ' + tokens_list_1[2])\n"
      ],
      "metadata": {
        "id": "Re527tMAMYJh"
      },
      "execution_count": null,
      "outputs": []
    },
    {
      "cell_type": "markdown",
      "source": [
        "# Programming Exercises"
      ],
      "metadata": {
        "id": "dImaPSG24ghK"
      }
    },
    {
      "cell_type": "code",
      "source": [
        "#@title 1. Initials\n",
        "\n",
        "'''\n",
        "Write a program that gets a string containing a person’s first, middle, and last names, and\n",
        "displays their first, middle, and last initials. For example, if the user enters John William Smith,\n",
        "the program should display J. W. S.\n",
        "'''\n",
        "\n",
        "'''\n",
        "Algorithm\n",
        "\n",
        "1. get the input\n",
        "2. split the string into tokens \n",
        "3. for each token, get the first character \n",
        "4. add up all the tokens with . in between \n",
        "5. print the answer \n",
        "\n",
        "'''\n",
        " \n",
        "name = input(\"Enter your first name, last name and middle name, with a space in the middle of each: \" )\n",
        "\n",
        "name_list = name.split()\n",
        "\n",
        "print(name_list[0][0],\".\", name_list[1][0],\".\", name_list[2][0],\".\")\n"
      ],
      "metadata": {
        "id": "TMtxljO0mhE6"
      },
      "execution_count": null,
      "outputs": []
    },
    {
      "cell_type": "code",
      "source": [
        "#@title 2. Sum of Digits in a String\n",
        "'''\n",
        "Write a program that asks the user to enter a series of single-digit numbers with nothing\n",
        "separating them. The program should display the sum of all the single digit numbers in the\n",
        "string. For example, if the user enters 2514, the method should return 12, which is the sum of 2,\n",
        "5, 1, and 4.\n",
        "'''\n",
        "'''\n",
        "get the input \n",
        "initialize the sum variable\n",
        "set up the loop to traverse the string \n",
        "convert each character into an integer \n",
        "add it to the sum \n",
        "print the sum outside the loop\n",
        "'''\n",
        "\n",
        "input_str = input('enter your string of digits: ')\n",
        "\n",
        "sum = 0\n",
        "for ch in input_str:\n",
        "   sum += int(ch)\n",
        "   \n",
        "print('sum of digits: ', sum)\n",
        "\n",
        "\n",
        "\n",
        "\n",
        "# input_str = input('enter your string of digits: ')\n",
        "\n",
        "# sum = 0\n",
        "# for ch in input_str:\n",
        "#    #print(ch)\n",
        "#    #ch_int = int(ch)\n",
        "#    #sum = sum + ch_int\n",
        "#    #sum = sum + int(ch)\n",
        "#    sum += int(ch)\n",
        "   \n",
        "# print('sum of digits: ', sum)\n",
        "\n"
      ],
      "metadata": {
        "id": "Pr9G4zb94sK8"
      },
      "execution_count": null,
      "outputs": []
    },
    {
      "cell_type": "code",
      "source": [
        "#@title 3. Date Printer\n",
        "'''\n",
        "Write a program that reads a string from the user containing a date in the form mm/dd/yyyy. It\n",
        "should print the date in the format March 12, 2018.\n",
        "'''\n",
        "# Write a program that reads a string from the user containing a date in the form mm/dd/yyyy. It\n",
        "# should print the date in the format March 12, 2018.\n",
        "\n",
        "input_date = input('Enter the date: ')\n",
        "date_tokens = input_date.split('/')\n",
        "\n",
        "month = date_tokens[0]\n",
        "month = int(month)\n",
        "\n",
        "# brute force\n",
        "if month == 1:\n",
        "    month_str = 'Jan'\n",
        "elif month == 2:\n",
        "    month_str = 'Feb'\n",
        "elif month == 3:\n",
        "    month_str = 'Mar'\n",
        "#TODO: all other 9 months    \n",
        "\n",
        "output_str = month_str + ' ' + date_tokens[1] + ', ' + date_tokens[2]\n",
        "print(output_str)\n",
        "\n"
      ],
      "metadata": {
        "id": "ZGqrccj74sfp"
      },
      "execution_count": null,
      "outputs": []
    },
    {
      "cell_type": "code",
      "source": [
        "#@title 3. Date Printer (Enchanced)\n",
        "'''\n",
        "Write a program that reads a string from the user containing a date in the form mm/dd/yyyy. It\n",
        "should print the date in the format March 12, 2018.\n",
        "'''\n",
        "# Write a program that reads a string from the user containing a date in the form mm/dd/yyyy. It\n",
        "# should print the date in the format March 12, 2018.\n",
        "\n",
        "\n",
        "input_date = input('Enter the date: ')\n",
        "date_tokens = input_date.split('/')\n",
        "\n",
        "month = date_tokens[0]\n",
        "month = int(month)\n",
        "months_list = ['Jan', 'Feb', 'Mar', 'Apr', 'May', 'Jun', 'Jul', 'Aug', 'Sep', 'Oct', 'Nov', 'Dec']\n",
        "\n",
        "output_str = months_list[month-1] + ' ' + date_tokens[1] + ', ' + date_tokens[2]\n",
        "print(output_str)\n"
      ],
      "metadata": {
        "id": "C-s2SFAxTbi7"
      },
      "execution_count": null,
      "outputs": []
    },
    {
      "cell_type": "code",
      "source": [],
      "metadata": {
        "id": "LT1gVYlfTYlJ"
      },
      "execution_count": null,
      "outputs": []
    },
    {
      "cell_type": "code",
      "source": [
        "#@title 4. Morse Code Converter\n",
        "'''\n",
        "Morse code is a code where each letter of the English alphabet, each digit, and various\n",
        "punctuation characters are represented by a series of dots and dashes. Table 8-4 shows part of\n",
        "the code.\n",
        "Write a program that asks the user to enter a string, then converts that string to Morse code\n",
        "'''"
      ],
      "metadata": {
        "id": "kkhf8NlY4sqq"
      },
      "execution_count": null,
      "outputs": []
    },
    {
      "cell_type": "code",
      "source": [
        "#@title 5. Alphabetic Telephone Number Translator  (Assignment) (Page 519)"
      ],
      "metadata": {
        "id": "eRGXMnwx4szc"
      },
      "execution_count": null,
      "outputs": []
    },
    {
      "cell_type": "code",
      "source": [
        "#@title 6. Average Number of Words"
      ],
      "metadata": {
        "id": "TUayZjD-4s8P"
      },
      "execution_count": null,
      "outputs": []
    },
    {
      "cell_type": "code",
      "source": [
        "#@title 7. Character Analysis"
      ],
      "metadata": {
        "id": "a5fmHcUvQQgD"
      },
      "execution_count": null,
      "outputs": []
    },
    {
      "cell_type": "code",
      "source": [
        "#@title 9.  Sentence Capitalizer"
      ],
      "metadata": {
        "id": "_Y6v2HVOQQ5Z"
      },
      "execution_count": null,
      "outputs": []
    },
    {
      "cell_type": "code",
      "source": [
        "#@title 10. Vowels and Consonants"
      ],
      "metadata": {
        "id": "Snsz3FVKQRAS"
      },
      "execution_count": null,
      "outputs": []
    },
    {
      "cell_type": "code",
      "source": [
        "#@title 11. Most Frequent Character  "
      ],
      "metadata": {
        "id": "qqltTy6NQRJ5"
      },
      "execution_count": null,
      "outputs": []
    },
    {
      "cell_type": "code",
      "source": [],
      "metadata": {
        "id": "UhvnHwXHQ0sD"
      },
      "execution_count": null,
      "outputs": []
    }
  ]
}